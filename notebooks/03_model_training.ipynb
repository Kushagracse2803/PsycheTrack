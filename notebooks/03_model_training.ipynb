{
 "cells": [
  {
   "cell_type": "markdown",
   "id": "8605ee0b",
   "metadata": {},
   "source": [
    "##  Model Training Start"
   ]
  },
  {
   "cell_type": "code",
   "execution_count": 2,
   "id": "fc7ebd75",
   "metadata": {},
   "outputs": [],
   "source": [
    "import pandas as pd\n",
    "from sklearn.model_selection import train_test_split\n",
    "from sklearn.feature_extraction.text  import TfidfVectorizer\n",
    "from sklearn.linear_model import LogisticRegression\n",
    "from sklearn.metrics import classification_report,confusion_matrix\n",
    "import matplotlib.pyplot as plt\n",
    "import seaborn as sns\n",
    "from sklearn.ensemble import RandomForestClassifier"
   ]
  },
  {
   "cell_type": "code",
   "execution_count": 3,
   "id": "7ff0cb36",
   "metadata": {},
   "outputs": [],
   "source": [
    "### Load cleaned Dataset\n"
   ]
  },
  {
   "cell_type": "code",
   "execution_count": 4,
   "id": "52762f52",
   "metadata": {},
   "outputs": [
    {
     "name": "stdout",
     "output_type": "stream",
     "text": [
      "Shape of dataset: (20000, 2)\n"
     ]
    },
    {
     "data": {
      "text/html": [
       "<div>\n",
       "<style scoped>\n",
       "    .dataframe tbody tr th:only-of-type {\n",
       "        vertical-align: middle;\n",
       "    }\n",
       "\n",
       "    .dataframe tbody tr th {\n",
       "        vertical-align: top;\n",
       "    }\n",
       "\n",
       "    .dataframe thead th {\n",
       "        text-align: right;\n",
       "    }\n",
       "</style>\n",
       "<table border=\"1\" class=\"dataframe\">\n",
       "  <thead>\n",
       "    <tr style=\"text-align: right;\">\n",
       "      <th></th>\n",
       "      <th>post_text</th>\n",
       "      <th>label</th>\n",
       "    </tr>\n",
       "  </thead>\n",
       "  <tbody>\n",
       "    <tr>\n",
       "      <th>0</th>\n",
       "      <td>year since diagnosed anxiety depression today ...</td>\n",
       "      <td>1</td>\n",
       "    </tr>\n",
       "    <tr>\n",
       "      <th>1</th>\n",
       "      <td>sunday need break im planning spend little tim...</td>\n",
       "      <td>1</td>\n",
       "    </tr>\n",
       "    <tr>\n",
       "      <th>2</th>\n",
       "      <td>awake tired need sleep brain idea</td>\n",
       "      <td>1</td>\n",
       "    </tr>\n",
       "    <tr>\n",
       "      <th>3</th>\n",
       "      <td>rt retro bear make perfect gift great beginner...</td>\n",
       "      <td>1</td>\n",
       "    </tr>\n",
       "    <tr>\n",
       "      <th>4</th>\n",
       "      <td>hard say whether packing list making life easi...</td>\n",
       "      <td>1</td>\n",
       "    </tr>\n",
       "  </tbody>\n",
       "</table>\n",
       "</div>"
      ],
      "text/plain": [
       "                                           post_text  label\n",
       "0  year since diagnosed anxiety depression today ...      1\n",
       "1  sunday need break im planning spend little tim...      1\n",
       "2                  awake tired need sleep brain idea      1\n",
       "3  rt retro bear make perfect gift great beginner...      1\n",
       "4  hard say whether packing list making life easi...      1"
      ]
     },
     "execution_count": 4,
     "metadata": {},
     "output_type": "execute_result"
    }
   ],
   "source": [
    "# Load the cleaned dataset from Notebook 2\n",
    "df = pd.read_csv(\"data/processed/twitter_depression_cleaned.csv\")\n",
    "\n",
    "print(\"Shape of dataset:\", df.shape)\n",
    "df.head()\n"
   ]
  },
  {
   "cell_type": "code",
   "execution_count": 5,
   "id": "ef998884",
   "metadata": {},
   "outputs": [],
   "source": [
    "df['post_text'] = df['post_text'].fillna(\"\")"
   ]
  },
  {
   "cell_type": "code",
   "execution_count": 6,
   "id": "bc6351e6",
   "metadata": {},
   "outputs": [
    {
     "name": "stdout",
     "output_type": "stream",
     "text": [
      "Train size: 16000\n",
      "Test size 4000\n"
     ]
    }
   ],
   "source": [
    "X=df['post_text']\n",
    "y=df['label']\n",
    "\n",
    "X_train,X_test,y_train,y_test= train_test_split(\n",
    "    X,y,test_size=0.2,random_state=42,stratify=y\n",
    ")\n",
    "print(\"Train size:\", X_train.shape[0])\n",
    "print(\"Test size\",X_test.shape[0])\n"
   ]
  },
  {
   "cell_type": "code",
   "execution_count": 7,
   "id": "05a1107a",
   "metadata": {},
   "outputs": [],
   "source": [
    "# Drop or replace NaN before vectorization\n",
    "X_train = X_train.fillna(\"\")\n",
    "X_test = X_test.fillna(\"\")\n"
   ]
  },
  {
   "cell_type": "code",
   "execution_count": 8,
   "id": "e1c5412c",
   "metadata": {},
   "outputs": [
    {
     "name": "stdout",
     "output_type": "stream",
     "text": [
      "Shape of TF-IDF train matrix: (16000, 5000)\n"
     ]
    }
   ],
   "source": [
    "# Convert text into numeric features using TF-IDF\n",
    "tfidf = TfidfVectorizer(max_features=5000)\n",
    "X_train_tfidf = tfidf.fit_transform(X_train)\n",
    "X_test_tfidf = tfidf.transform(X_test)\n",
    "\n",
    "print(\"Shape of TF-IDF train matrix:\", X_train_tfidf.shape)\n"
   ]
  },
  {
   "cell_type": "code",
   "execution_count": null,
   "id": "9bb0c7d2",
   "metadata": {},
   "outputs": [],
   "source": []
  },
  {
   "cell_type": "markdown",
   "id": "994133b8",
   "metadata": {},
   "source": [
    "🧠 Samajhne ka tareeka:\n",
    "\n",
    "Har row = ek tweet\n",
    "\n",
    "Har column = ek word\n",
    "\n",
    "Number = us word ka importance score in that tweet\n",
    "\n",
    "Example:\n",
    "\n",
    "Tweet 2 me word \"anyone\" ka score 0.61 → important for that tweet.\n",
    "\n",
    "Tweet 4 me word \"spell\" ka score 0.77 → bahut unique word, high importance."
   ]
  },
  {
   "cell_type": "markdown",
   "id": "cf0d07ea",
   "metadata": {},
   "source": [
    "🔍 TF-IDF me \"unique words\" ka source\n",
    "\n",
    "Dataset ke saare sentences uthaye jaate hain (jitna tumne vectorizer ko diya).\n",
    "Example:\n",
    "\n",
    "\"hey dumbass spell check\"\n",
    "\n",
    "\"rt imagine thinking anyone young justice straight\"\n",
    "\n",
    "Vectorizer pehle tokenization karta hai → matlab saare sentences tod kar shabdon ki list banata hai.\n",
    "\n",
    "\"hey dumbass spell check\" → [\"hey\",\"dumbass\",\"spell\",\"check\"]\n",
    "\n",
    "\"rt imagine thinking anyone young justice straight\" → [\"rt\",\"imagine\",\"thinking\",\"anyone\",\"young\",\"justice\",\"straight\"]\n",
    "\n",
    "Fir ye saari lists mila kar ek dictionary of unique words ban jaati hai (jise vocabulary bolte hain).\n",
    "\n",
    "Vocabulary = {“hey”, “dumbass”, “spell”, “check”, “rt”, “imagine”, “thinking”, “anyone”, …}\n",
    "\n",
    "Tumne code me max_features=15 diya tha → matlab sirf top 15 unique words rakho (jo sabse important nikle).\n",
    "\n",
    "👉 Isi vocabulary se hi columns bante hain TF-IDF matrix me.\n",
    "\n",
    "🧠 Why scores differ (importance)?\n",
    "\n",
    "TF (Term Frequency) → ek tweet me word kitni baar aaya.\n",
    "\n",
    "IDF (Inverse Document Frequency) → wo word kitne aur tweets me aaya.\n",
    "\n",
    "Rare words (jaise \"spell\") ka score high hoga.\n",
    "\n",
    "Har jagah repeat hone wale words (jaise \"rt\", \"the\") ka score low hoga.\n",
    "\n",
    "✅ To simple answer:\n",
    "Ye unique words tumhare dataset se hi nikal rahe hain → TF-IDF vectorizer sab tweets ko tod kar dictionary banata hai, aur fir us dictionary ke basis pe numeric matrix bana deta hai."
   ]
  },
  {
   "cell_type": "code",
   "execution_count": 9,
   "id": "c3bd0a14",
   "metadata": {},
   "outputs": [
    {
     "name": "stdout",
     "output_type": "stream",
     "text": [
      "=== Logistic Regression ===\n",
      "              precision    recall  f1-score   support\n",
      "\n",
      "           0       0.76      0.78      0.77      2000\n",
      "           1       0.77      0.75      0.76      2000\n",
      "\n",
      "    accuracy                           0.76      4000\n",
      "   macro avg       0.76      0.76      0.76      4000\n",
      "weighted avg       0.76      0.76      0.76      4000\n",
      "\n"
     ]
    }
   ],
   "source": [
    "log_reg = LogisticRegression(max_iter=1000)\n",
    "log_reg.fit(X_train_tfidf, y_train)\n",
    "y_pred_lr = log_reg.predict(X_test_tfidf)\n",
    "\n",
    "print(\"=== Logistic Regression ===\")\n",
    "print(classification_report(y_test, y_pred_lr))\n"
   ]
  },
  {
   "cell_type": "markdown",
   "id": "2f57d9ea",
   "metadata": {},
   "source": [
    "📘 Logistic Regression in Text Classification (Notes)\n",
    "🔹 Pipeline Overview\n",
    "\n",
    "Dataset\n",
    "\n",
    "Sentences (text data) + Labels (e.g., Depressed = 1, Not Depressed = 0).\n",
    "\n",
    "Vectorization (TF-IDF)\n",
    "\n",
    "Convert text → numeric features.\n",
    "\n",
    "Common words → low weight.\n",
    "\n",
    "Rare & meaningful words → high weight.\n",
    "\n",
    "Logistic Regression (Classifier)\n",
    "\n",
    "Learns weights (importance) for each feature (word/phrase).\n",
    "\n",
    "Uses sigmoid function to output probability.\n",
    "\n",
    "Decides class based on probability threshold (default = 0.5).\n",
    "\n",
    "Evaluation\n",
    "\n",
    "Metrics: precision, recall, f1-score, accuracy.\n",
    "\n",
    "Tools: classification_report, confusion matrix, ROC, PR curves.\n",
    "\n",
    "🔹 Logistic Regression Role\n",
    "\n",
    "Acts as the decision maker in the pipeline.\n",
    "\n",
    "Equation:\n",
    "\n",
    "𝑧\n",
    "=\n",
    "𝑤\n",
    "1\n",
    "𝑥\n",
    "1\n",
    "+\n",
    "𝑤\n",
    "2\n",
    "𝑥\n",
    "2\n",
    "+\n",
    ".\n",
    ".\n",
    ".\n",
    "+\n",
    "𝑏\n",
    "z=w\n",
    "1\n",
    "\t​\n",
    "\n",
    "x\n",
    "1\n",
    "\t​\n",
    "\n",
    "+w\n",
    "2\n",
    "\t​\n",
    "\n",
    "x\n",
    "2\n",
    "\t​\n",
    "\n",
    "+...+b\n",
    "𝑃\n",
    "(\n",
    "𝑦\n",
    "=\n",
    "1\n",
    "∣\n",
    "𝑥\n",
    ")\n",
    "=\n",
    "1\n",
    "1\n",
    "+\n",
    "𝑒\n",
    "−\n",
    "𝑧\n",
    "P(y=1∣x)=\n",
    "1+e\n",
    "−z\n",
    "1\n",
    "\t​\n",
    "\n",
    "\n",
    "Interpretation:\n",
    "\n",
    "If \n",
    "𝑃\n",
    "≥\n",
    "0.5\n",
    "P≥0.5 → Predict Depressed (1).\n",
    "\n",
    "If \n",
    "𝑃\n",
    "<\n",
    "0.5\n",
    "P<0.5 → Predict Not Depressed (0).\n",
    "\n",
    "🔹 Example\n",
    "\n",
    "Sentence: \"I feel very sad today\"\n",
    "\n",
    "TF-IDF vector → [feel=0.4, sad=0.8, happy=0.0]\n",
    "\n",
    "Model weights → [feel=0.1, sad=2.0, happy=-2.5]\n",
    "\n",
    "Score:\n",
    "\n",
    "𝑧\n",
    "=\n",
    "0.1\n",
    "∗\n",
    "0.4\n",
    "+\n",
    "2.0\n",
    "∗\n",
    "0.8\n",
    "+\n",
    "(\n",
    "−\n",
    "2.5\n",
    "∗\n",
    "0.0\n",
    ")\n",
    "+\n",
    "𝑏\n",
    "z=0.1∗0.4+2.0∗0.8+(−2.5∗0.0)+b\n",
    "\n",
    "Sigmoid output ≈ 0.9 → 90% chance Depressed ⇒ Class = 1.\n",
    "\n",
    "🔹 Visual Insights\n",
    "\n",
    "Confusion Matrix → Shows correct vs incorrect predictions.\n",
    "\n",
    "ROC Curve → Trade-off between TPR & FPR, AUC score.\n",
    "\n",
    "Precision-Recall Curve → Useful for imbalanced data.\n",
    "\n",
    "Top Coefficients → Which words strongly indicate Depressed vs Not Depressed.\n",
    "\n",
    "🔹 Analogy\n",
    "\n",
    "Logistic Regression = Judge 👩‍⚖️\n",
    "\n",
    "Words (features) = Proofs/Evidences 📝\n",
    "\n",
    "Each proof has weight (importance).\n",
    "\n",
    "Judge adds up proofs → calculates confidence (probability).\n",
    "\n",
    "Gives final verdict: Depressed / Not Depressed.\n",
    "\n",
    "👉 Ye notes tumhare resume/project report/college explanation me directly use ho sakte hain."
   ]
  },
  {
   "cell_type": "code",
   "execution_count": 10,
   "id": "faee0ee4",
   "metadata": {},
   "outputs": [
    {
     "data": {
      "image/png": "[encoded data removed]",
      "text/plain": [
       "<Figure size 640x480 with 2 Axes>"
      ]
     },
     "metadata": {},
     "output_type": "display_data"
    }
   ],
   "source": [
    "cm = confusion_matrix(y_test, y_pred_lr)\n",
    "sns.heatmap(cm, annot=True, fmt='d', cmap='Blues',\n",
    "            xticklabels=['Not Depressed','Depressed'],\n",
    "            yticklabels=['Not Depressed','Depressed'])\n",
    "plt.xlabel(\"Predicted\")\n",
    "plt.ylabel(\"Actual\")\n",
    "plt.title(\"Confusion Matrix - Logistic Regression\")\n",
    "plt.show()\n"
   ]
  },
  {
   "cell_type": "markdown",
   "id": "1e3f2b75",
   "metadata": {},
   "source": []
  },
  {
   "cell_type": "code",
   "execution_count": 11,
   "id": "17b7e010",
   "metadata": {},
   "outputs": [
    {
     "name": "stdout",
     "output_type": "stream",
     "text": [
      "=== Naive Bayes ===\n",
      "              precision    recall  f1-score   support\n",
      "\n",
      "           0       0.79      0.74      0.76      2000\n",
      "           1       0.76      0.80      0.78      2000\n",
      "\n",
      "    accuracy                           0.77      4000\n",
      "   macro avg       0.77      0.77      0.77      4000\n",
      "weighted avg       0.77      0.77      0.77      4000\n",
      "\n"
     ]
    }
   ],
   "source": [
    "from sklearn.naive_bayes import MultinomialNB\n",
    "\n",
    "# Train Naive Bayes\n",
    "nb = MultinomialNB()\n",
    "nb.fit(X_train_tfidf, y_train)\n",
    "\n",
    "# Predict\n",
    "y_pred_nb = nb.predict(X_test_tfidf)\n",
    "\n",
    "# Evaluation\n",
    "print(\"=== Naive Bayes ===\")\n",
    "print(classification_report(y_test, y_pred_nb))\n"
   ]
  },
  {
   "cell_type": "markdown",
   "id": "c8d4ab50",
   "metadata": {},
   "source": []
  },
  {
   "cell_type": "code",
   "execution_count": 12,
   "id": "d626664e",
   "metadata": {},
   "outputs": [
    {
     "name": "stdout",
     "output_type": "stream",
     "text": [
      "=== Random Forest ===\n",
      "              precision    recall  f1-score   support\n",
      "\n",
      "           0       0.73      0.75      0.74      2000\n",
      "           1       0.74      0.72      0.73      2000\n",
      "\n",
      "    accuracy                           0.74      4000\n",
      "   macro avg       0.74      0.74      0.74      4000\n",
      "weighted avg       0.74      0.74      0.74      4000\n",
      "\n"
     ]
    }
   ],
   "source": [
    "rf = RandomForestClassifier(n_estimators=100, random_state=42)\n",
    "rf.fit(X_train_tfidf, y_train)\n",
    "y_pred_rf = rf.predict(X_test_tfidf)\n",
    "\n",
    "print(\"=== Random Forest ===\")\n",
    "print(classification_report(y_test, y_pred_rf))\n",
    "\n"
   ]
  },
  {
   "cell_type": "code",
   "execution_count": 13,
   "id": "7f2259d2",
   "metadata": {},
   "outputs": [],
   "source": [
    "import pandas as pd\n",
    "from sklearn.metrics import accuracy_score, precision_score, recall_score, f1_score\n"
   ]
  },
  {
   "cell_type": "code",
   "execution_count": 14,
   "id": "1e4d2bdd",
   "metadata": {},
   "outputs": [],
   "source": [
    "# Logistic Regression metrics\n",
    "lr_metrics = {\n",
    "    \"Model\": \"Logistic Regression\",\n",
    "    \"Accuracy\": accuracy_score(y_test, y_pred_lr),\n",
    "    \"Precision\": precision_score(y_test, y_pred_lr),\n",
    "    \"Recall\": recall_score(y_test, y_pred_lr),\n",
    "    \"F1-Score\": f1_score(y_test, y_pred_lr)\n",
    "}\n",
    "\n",
    "# Naive Bayes metrics\n",
    "nb_metrics = {\n",
    "    \"Model\": \"Naive Bayes\",\n",
    "    \"Accuracy\": accuracy_score(y_test, y_pred_nb),\n",
    "    \"Precision\": precision_score(y_test, y_pred_nb),\n",
    "    \"Recall\": recall_score(y_test, y_pred_nb),\n",
    "    \"F1-Score\": f1_score(y_test, y_pred_nb)\n",
    "}\n",
    "\n",
    "# Random Forest metrics\n",
    "rf_metrics = {\n",
    "    \"Model\": \"Random Forest\",\n",
    "    \"Accuracy\": accuracy_score(y_test, y_pred_rf),\n",
    "    \"Precision\": precision_score(y_test, y_pred_rf),\n",
    "    \"Recall\": recall_score(y_test, y_pred_rf),\n",
    "    \"F1-Score\": f1_score(y_test, y_pred_rf)\n",
    "}\n"
   ]
  },
  {
   "cell_type": "code",
   "execution_count": 15,
   "id": "be350e50",
   "metadata": {},
   "outputs": [
    {
     "name": "stdout",
     "output_type": "stream",
     "text": [
      "                 Model  Accuracy  Precision  Recall  F1-Score\n",
      "0  Logistic Regression   0.76425   0.772845  0.7485  0.760478\n",
      "1          Naive Bayes   0.77025   0.756526  0.7970  0.776236\n",
      "2        Random Forest   0.73700   0.742828  0.7250  0.733806\n"
     ]
    }
   ],
   "source": [
    "results_df = pd.DataFrame([lr_metrics, nb_metrics, rf_metrics])\n",
    "print(results_df)\n"
   ]
  },
  {
   "cell_type": "code",
   "execution_count": 16,
   "id": "53bb1c99",
   "metadata": {},
   "outputs": [
    {
     "data": {
      "image/png": "[encoded data removed]",
      "text/plain": [
       "<Figure size 600x400 with 1 Axes>"
      ]
     },
     "metadata": {},
     "output_type": "display_data"
    }
   ],
   "source": [
    "import matplotlib.pyplot as plt\n",
    "\n",
    "# Bar chart for F1-Score comparison\n",
    "plt.figure(figsize=(6,4))\n",
    "plt.bar(results_df[\"Model\"], results_df[\"F1-Score\"], color=['skyblue','salmon','lightgreen'])\n",
    "plt.title(\"Model Comparison (F1-Score)\")\n",
    "plt.ylabel(\"F1-Score\")\n",
    "plt.ylim(0,1)   # scores range 0–1\n",
    "plt.show()\n"
   ]
  },
  {
   "cell_type": "code",
   "execution_count": 17,
   "id": "a51c0849",
   "metadata": {},
   "outputs": [
    {
     "name": "stdout",
     "output_type": "stream",
     "text": [
      "✅ Predictions saved to data/predictions/model_predictions.csv\n"
     ]
    }
   ],
   "source": [
    "import os\n",
    "os.makedirs(\"data/predictions\", exist_ok=True)\n",
    "\n",
    "# Save predictions + true labels\n",
    "preds_df = pd.DataFrame({\n",
    "    \"y_test\": y_test,\n",
    "    \"LogReg\": y_pred_lr,\n",
    "    \"NaiveBayes\": y_pred_nb,\n",
    "    \"RandomForest\": y_pred_rf\n",
    "})\n",
    "\n",
    "preds_df.to_csv(\"data/predictions/model_predictions.csv\", index=False)\n",
    "print(\"✅ Predictions saved to data/predictions/model_predictions.csv\")\n"
   ]
  },
  {
   "cell_type": "code",
   "execution_count": null,
   "id": "a33250e3",
   "metadata": {},
   "outputs": [],
   "source": []
  },
  {
   "cell_type": "code",
   "execution_count": null,
   "id": "23799f25",
   "metadata": {},
   "outputs": [],
   "source": []
  },
  {
   "cell_type": "code",
   "execution_count": null,
   "id": "d53e933d",
   "metadata": {},
   "outputs": [],
   "source": []
  },
  {
   "cell_type": "code",
   "execution_count": null,
   "id": "bea3079b",
   "metadata": {},
   "outputs": [],
   "source": []
  },
  {
   "cell_type": "code",
   "execution_count": null,
   "id": "5dbac445",
   "metadata": {},
   "outputs": [],
   "source": []
  },
  {
   "cell_type": "code",
   "execution_count": null,
   "id": "518826ef",
   "metadata": {},
   "outputs": [],
   "source": []
  },
  {
   "cell_type": "code",
   "execution_count": null,
   "id": "c22e8688",
   "metadata": {},
   "outputs": [],
   "source": []
  },
  {
   "cell_type": "code",
   "execution_count": null,
   "id": "4ad31c46",
   "metadata": {},
   "outputs": [],
   "source": []
  },
  {
   "cell_type": "code",
   "execution_count": null,
   "id": "c3aeac6e",
   "metadata": {},
   "outputs": [],
   "source": []
  },
  {
   "cell_type": "code",
   "execution_count": null,
   "id": "b5d59c70",
   "metadata": {},
   "outputs": [],
   "source": []
  },
  {
   "cell_type": "code",
   "execution_count": null,
   "id": "ac2cebaf",
   "metadata": {},
   "outputs": [],
   "source": []
  },
  {
   "cell_type": "code",
   "execution_count": null,
   "id": "4cb998a9",
   "metadata": {},
   "outputs": [],
   "source": []
  },
  {
   "cell_type": "code",
   "execution_count": null,
   "id": "14657303",
   "metadata": {},
   "outputs": [],
   "source": []
  },
  {
   "cell_type": "code",
   "execution_count": null,
   "id": "78ea8753",
   "metadata": {},
   "outputs": [],
   "source": []
  },
  {
   "cell_type": "code",
   "execution_count": null,
   "id": "8ff0c03f",
   "metadata": {},
   "outputs": [],
   "source": []
  },
  {
   "cell_type": "code",
   "execution_count": null,
   "id": "01303514",
   "metadata": {},
   "outputs": [],
   "source": []
  }
 ],
 "metadata": {
  "kernelspec": {
   "display_name": "venv (3.10.5)",
   "language": "python",
   "name": "python3"
  },
  "language_info": {
   "codemirror_mode": {
    "name": "ipython",
    "version": 3
   },
   "file_extension": ".py",
   "mimetype": "text/x-python",
   "name": "python",
   "nbconvert_exporter": "python",
   "pygments_lexer": "ipython3",
   "version": "3.10.5"
  }
 },
 "nbformat": 4,
 "nbformat_minor": 5
}
